{
 "cells": [
  {
   "cell_type": "code",
   "execution_count": 14,
   "id": "d2f68a69",
   "metadata": {},
   "outputs": [
    {
     "name": "stderr",
     "output_type": "stream",
     "text": [
      "/var/folders/_y/61ngw3jd5739nsvht6fg3wfr0000gn/T/ipykernel_5166/3169780229.py:24: DtypeWarning: Columns (7,14,15,16,17,19,20,21,22,23,24,25,26,27,28,29,30,32,33,34,40,41,42,43,44,45,46,47,50,51,52,56,57,58,59,60,65,68,69,70,71,76,79,80,81,82,83,90,91,92,93,94,95,96,97,98,99,102,104,105,106,110,111,113,120,121,122,125) have mixed types. Specify dtype option on import or set low_memory=False.\n",
      "  station_pd_dfs=[pd.read_csv(f\"{dirc}/{file}\").copy() for file in station_csv_files]\n",
      "/var/folders/_y/61ngw3jd5739nsvht6fg3wfr0000gn/T/ipykernel_5166/3169780229.py:24: DtypeWarning: Columns (39,40,41,42,43,47,48,52,53,54,55,57,58,59,60,61,65,70,71,76,77,88,89,106,108,109,110) have mixed types. Specify dtype option on import or set low_memory=False.\n",
      "  station_pd_dfs=[pd.read_csv(f\"{dirc}/{file}\").copy() for file in station_csv_files]\n",
      "/var/folders/_y/61ngw3jd5739nsvht6fg3wfr0000gn/T/ipykernel_5166/3169780229.py:24: DtypeWarning: Columns (15,16,17,18,19,20,21,22,23,24,25,26,27,28,29,30,32,34,40,41,42,43,49,65,68,76,79,80,84,85,90,91,92,95,96,97,104,105,106,110,111,123,127,128) have mixed types. Specify dtype option on import or set low_memory=False.\n",
      "  station_pd_dfs=[pd.read_csv(f\"{dirc}/{file}\").copy() for file in station_csv_files]\n",
      "/var/folders/_y/61ngw3jd5739nsvht6fg3wfr0000gn/T/ipykernel_5166/3169780229.py:24: DtypeWarning: Columns (17,39,40,45,50,103,104,106,114,115) have mixed types. Specify dtype option on import or set low_memory=False.\n",
      "  station_pd_dfs=[pd.read_csv(f\"{dirc}/{file}\").copy() for file in station_csv_files]\n",
      "/var/folders/_y/61ngw3jd5739nsvht6fg3wfr0000gn/T/ipykernel_5166/3169780229.py:24: DtypeWarning: Columns (13,15,16,17,19,20,21,22,23,24,25,26,27,28,29,30,32,33,34,38,39,40,41,42,43,45,46,47,50,51,52,53,54,58,59,60,61,70,90,91,92,93,94,95,96,97,104,105,106,108,130) have mixed types. Specify dtype option on import or set low_memory=False.\n",
      "  station_pd_dfs=[pd.read_csv(f\"{dirc}/{file}\").copy() for file in station_csv_files]\n",
      "/var/folders/_y/61ngw3jd5739nsvht6fg3wfr0000gn/T/ipykernel_5166/3169780229.py:24: DtypeWarning: Columns (31,49,65,68,85,86,87,123,127,128) have mixed types. Specify dtype option on import or set low_memory=False.\n",
      "  station_pd_dfs=[pd.read_csv(f\"{dirc}/{file}\").copy() for file in station_csv_files]\n",
      "/var/folders/_y/61ngw3jd5739nsvht6fg3wfr0000gn/T/ipykernel_5166/3169780229.py:24: DtypeWarning: Columns (11,38,39,40,41,42,45,50,51,86,106,107) have mixed types. Specify dtype option on import or set low_memory=False.\n",
      "  station_pd_dfs=[pd.read_csv(f\"{dirc}/{file}\").copy() for file in station_csv_files]\n",
      "/var/folders/_y/61ngw3jd5739nsvht6fg3wfr0000gn/T/ipykernel_5166/3169780229.py:24: DtypeWarning: Columns (39,40,45,50,51,52,77,106,107,108) have mixed types. Specify dtype option on import or set low_memory=False.\n",
      "  station_pd_dfs=[pd.read_csv(f\"{dirc}/{file}\").copy() for file in station_csv_files]\n",
      "/var/folders/_y/61ngw3jd5739nsvht6fg3wfr0000gn/T/ipykernel_5166/3169780229.py:24: DtypeWarning: Columns (38,39,40,41,51,101,107) have mixed types. Specify dtype option on import or set low_memory=False.\n",
      "  station_pd_dfs=[pd.read_csv(f\"{dirc}/{file}\").copy() for file in station_csv_files]\n",
      "/var/folders/_y/61ngw3jd5739nsvht6fg3wfr0000gn/T/ipykernel_5166/3169780229.py:24: DtypeWarning: Columns (12,13,39,40,41,42,43,46,47,48,51,52,76,88,89,108,109,110) have mixed types. Specify dtype option on import or set low_memory=False.\n",
      "  station_pd_dfs=[pd.read_csv(f\"{dirc}/{file}\").copy() for file in station_csv_files]\n",
      "/var/folders/_y/61ngw3jd5739nsvht6fg3wfr0000gn/T/ipykernel_5166/3169780229.py:24: DtypeWarning: Columns (39,40,41,51,52,107) have mixed types. Specify dtype option on import or set low_memory=False.\n",
      "  station_pd_dfs=[pd.read_csv(f\"{dirc}/{file}\").copy() for file in station_csv_files]\n",
      "/var/folders/_y/61ngw3jd5739nsvht6fg3wfr0000gn/T/ipykernel_5166/3169780229.py:24: DtypeWarning: Columns (31,40,41,42,43,47,53,110,111) have mixed types. Specify dtype option on import or set low_memory=False.\n",
      "  station_pd_dfs=[pd.read_csv(f\"{dirc}/{file}\").copy() for file in station_csv_files]\n",
      "/var/folders/_y/61ngw3jd5739nsvht6fg3wfr0000gn/T/ipykernel_5166/3169780229.py:24: DtypeWarning: Columns (39,40,41,42,43,47,52,53,58,59,70,76) have mixed types. Specify dtype option on import or set low_memory=False.\n",
      "  station_pd_dfs=[pd.read_csv(f\"{dirc}/{file}\").copy() for file in station_csv_files]\n",
      "/var/folders/_y/61ngw3jd5739nsvht6fg3wfr0000gn/T/ipykernel_5166/3169780229.py:24: DtypeWarning: Columns (7,31,33,35,39,40,41,42,43,47,52,53,59,88,89,108,109,125) have mixed types. Specify dtype option on import or set low_memory=False.\n",
      "  station_pd_dfs=[pd.read_csv(f\"{dirc}/{file}\").copy() for file in station_csv_files]\n",
      "/var/folders/_y/61ngw3jd5739nsvht6fg3wfr0000gn/T/ipykernel_5166/3169780229.py:24: DtypeWarning: Columns (7,15,16,17,19,20,21,22,23,24,25,26,27,28,29,30,36,37,38,39,40,44,45,46,47,49,50,51,56,57,58,59,68,69,74,75,79,80,90,91,92,93,94,95,96,97,104,105,106,107,125) have mixed types. Specify dtype option on import or set low_memory=False.\n",
      "  station_pd_dfs=[pd.read_csv(f\"{dirc}/{file}\").copy() for file in station_csv_files]\n",
      "/var/folders/_y/61ngw3jd5739nsvht6fg3wfr0000gn/T/ipykernel_5166/3169780229.py:24: DtypeWarning: Columns (40,41,42,47,53,59) have mixed types. Specify dtype option on import or set low_memory=False.\n",
      "  station_pd_dfs=[pd.read_csv(f\"{dirc}/{file}\").copy() for file in station_csv_files]\n",
      "/var/folders/_y/61ngw3jd5739nsvht6fg3wfr0000gn/T/ipykernel_5166/3169780229.py:24: DtypeWarning: Columns (31,41,42,43,47,48,52,53,70,71,72,84,88,89,108,109) have mixed types. Specify dtype option on import or set low_memory=False.\n",
      "  station_pd_dfs=[pd.read_csv(f\"{dirc}/{file}\").copy() for file in station_csv_files]\n",
      "/var/folders/_y/61ngw3jd5739nsvht6fg3wfr0000gn/T/ipykernel_5166/3169780229.py:24: DtypeWarning: Columns (13,31,49,50,67,68,69,70,76,81,82,83,85,109,110,113,123,127,128) have mixed types. Specify dtype option on import or set low_memory=False.\n",
      "  station_pd_dfs=[pd.read_csv(f\"{dirc}/{file}\").copy() for file in station_csv_files]\n",
      "/var/folders/_y/61ngw3jd5739nsvht6fg3wfr0000gn/T/ipykernel_5166/3169780229.py:24: DtypeWarning: Columns (31,41,42,43,46,47,48,52,53,70,71,77,84,109,110) have mixed types. Specify dtype option on import or set low_memory=False.\n",
      "  station_pd_dfs=[pd.read_csv(f\"{dirc}/{file}\").copy() for file in station_csv_files]\n",
      "/var/folders/_y/61ngw3jd5739nsvht6fg3wfr0000gn/T/ipykernel_5166/3169780229.py:24: DtypeWarning: Columns (13,17,31,41,42,43,47,52,65,70,71,76,86,87,106,110,114,115) have mixed types. Specify dtype option on import or set low_memory=False.\n",
      "  station_pd_dfs=[pd.read_csv(f\"{dirc}/{file}\").copy() for file in station_csv_files]\n",
      "/var/folders/_y/61ngw3jd5739nsvht6fg3wfr0000gn/T/ipykernel_5166/3169780229.py:24: DtypeWarning: Columns (40,41,42,47,53,54,58,59,60,108,130) have mixed types. Specify dtype option on import or set low_memory=False.\n",
      "  station_pd_dfs=[pd.read_csv(f\"{dirc}/{file}\").copy() for file in station_csv_files]\n",
      "/var/folders/_y/61ngw3jd5739nsvht6fg3wfr0000gn/T/ipykernel_5166/3169780229.py:24: DtypeWarning: Columns (11,12,49,67,68,69,86,87,101,107,108,109,123,127,128) have mixed types. Specify dtype option on import or set low_memory=False.\n",
      "  station_pd_dfs=[pd.read_csv(f\"{dirc}/{file}\").copy() for file in station_csv_files]\n"
     ]
    }
   ],
   "source": [
    "import pandas as pd\n",
    "import numpy as np\n",
    "import os\n",
    "# Just for my own exploration :)\n",
    "# Count the number of nan's for each feature for each station\n",
    "# Note: in the documentation sometimes a number stands in for a nan value\n",
    "# We will deal with that if we choose those features later.\n",
    "\n",
    "\n",
    "dirc = 'Data/OK City Station Data/Raw Data'\n",
    "raw_station_data = os.listdir('Data/OK City Station Data/Raw Data') # list files in directory\n",
    "\n",
    "station_csv_files = [file for file in raw_station_data if ('.csv' in file) and ('Station' in file)] # get csv files\n",
    "\n",
    "station_list = [] # to hold station numbers as keys and number of csv files as entries\n",
    "\n",
    "for file in station_csv_files:\n",
    "    underscore_split = file.split('_')\n",
    "    station_num = underscore_split[1].replace('.csv','')  \n",
    "    station_list.append(int(station_num)) # station_num is a string\n",
    "    \n",
    "\n",
    "\n",
    "# Read in CSV's as pd.DataFrame's concat along axis = 0 \n",
    "\n",
    "station_pd_dfs=[pd.read_csv(f\"{dirc}/{file}\").copy() for file in station_csv_files]\n",
    "stations_df = pd.concat(station_pd_dfs, axis = 0)\n",
    "\n",
    "\n",
    "\n",
    "    \n",
    "    \n"
   ]
  },
  {
   "cell_type": "code",
   "execution_count": 19,
   "id": "aaa1a79e",
   "metadata": {},
   "outputs": [],
   "source": [
    "df = stations_df.reset_index().drop(['index', 'Unnamed: 0'], axis =1)"
   ]
  },
  {
   "cell_type": "code",
   "execution_count": null,
   "id": "6957fc71",
   "metadata": {},
   "outputs": [],
   "source": [
    "len_record = dict({})\n",
    "stations = df['STATION'].unique()\n",
    "for station in stations:\n",
    "    sub_df = df[df['STATION']== station]\n",
    "    len_record[station] ={col: len(sub_df[col].dropna()) for col in sub_df.columns}\n",
    "    \n"
   ]
  },
  {
   "cell_type": "code",
   "execution_count": null,
   "id": "fc4ac8d6",
   "metadata": {},
   "outputs": [],
   "source": [
    "toconcat = [pd.DataFrame(len_record[station],index = [f'Station {station}']).T for station in stations]\n",
    "final_df = pd.concat(toconcat, axis = 1)\n",
    "final_name = 'Features_No_NAN_Counts.csv'\n",
    "final_path = f'Data/OK City Station Data/Raw Data Observations/{final_name}'\n",
    "final_df.to_csv(final_path)"
   ]
  },
  {
   "cell_type": "code",
   "execution_count": null,
   "id": "b9b2d9a6",
   "metadata": {},
   "outputs": [
    {
     "name": "stderr",
     "output_type": "stream",
     "text": [
      "/var/folders/_y/61ngw3jd5739nsvht6fg3wfr0000gn/T/ipykernel_3511/2459208806.py:12: DtypeWarning: Columns (15,16,17,18,19,20,21,22,23,24,25,26,27,28,29,30,32,34,40,41,42,43,49,65,68,76,79,80,84,85,90,91,92,95,96,97,104,105,106,110,111,123,127,128) have mixed types. Specify dtype option on import or set low_memory=False.\n",
      "  station_df = pd.read_csv(station_csv)\n",
      "/var/folders/_y/61ngw3jd5739nsvht6fg3wfr0000gn/T/ipykernel_3511/2459208806.py:12: DtypeWarning: Columns (7,14,15,16,17,19,20,21,22,23,24,25,26,27,28,29,30,32,33,34,40,41,42,43,44,45,46,47,50,51,52,56,57,58,59,60,65,68,69,70,71,76,79,80,81,82,83,90,91,92,93,94,95,96,97,98,99,102,104,105,106,110,111,113,120,121,122,125) have mixed types. Specify dtype option on import or set low_memory=False.\n",
      "  station_df = pd.read_csv(station_csv)\n",
      "/var/folders/_y/61ngw3jd5739nsvht6fg3wfr0000gn/T/ipykernel_3511/2459208806.py:12: DtypeWarning: Columns (39,40,41,42,43,47,48,52,53,54,55,57,58,59,60,61,65,70,71,76,77,88,89,106,108,109,110) have mixed types. Specify dtype option on import or set low_memory=False.\n",
      "  station_df = pd.read_csv(station_csv)\n",
      "/var/folders/_y/61ngw3jd5739nsvht6fg3wfr0000gn/T/ipykernel_3511/2459208806.py:7: DtypeWarning: Columns (17,39,40,45,50,103,104,106,114,115) have mixed types. Specify dtype option on import or set low_memory=False.\n",
      "  station_df = pd.read_csv(station_csv)\n",
      "/var/folders/_y/61ngw3jd5739nsvht6fg3wfr0000gn/T/ipykernel_3511/2459208806.py:7: DtypeWarning: Columns (31,49,65,68,85,86,87,123,127,128) have mixed types. Specify dtype option on import or set low_memory=False.\n",
      "  station_df = pd.read_csv(station_csv)\n",
      "/var/folders/_y/61ngw3jd5739nsvht6fg3wfr0000gn/T/ipykernel_3511/2459208806.py:12: DtypeWarning: Columns (11,38,39,40,41,42,45,50,51,86,106,107) have mixed types. Specify dtype option on import or set low_memory=False.\n",
      "  station_df = pd.read_csv(station_csv)\n",
      "/var/folders/_y/61ngw3jd5739nsvht6fg3wfr0000gn/T/ipykernel_3511/2459208806.py:12: DtypeWarning: Columns (38,39,40,41,51,101,107) have mixed types. Specify dtype option on import or set low_memory=False.\n",
      "  station_df = pd.read_csv(station_csv)\n",
      "/var/folders/_y/61ngw3jd5739nsvht6fg3wfr0000gn/T/ipykernel_3511/2459208806.py:12: DtypeWarning: Columns (39,40,45,50,51,52,77,106,107,108) have mixed types. Specify dtype option on import or set low_memory=False.\n",
      "  station_df = pd.read_csv(station_csv)\n",
      "/var/folders/_y/61ngw3jd5739nsvht6fg3wfr0000gn/T/ipykernel_3511/2459208806.py:12: DtypeWarning: Columns (39,40,41,51,52,107) have mixed types. Specify dtype option on import or set low_memory=False.\n",
      "  station_df = pd.read_csv(station_csv)\n",
      "/var/folders/_y/61ngw3jd5739nsvht6fg3wfr0000gn/T/ipykernel_3511/2459208806.py:12: DtypeWarning: Columns (13,17,31,41,42,43,47,52,65,70,71,76,86,87,106,110,114,115) have mixed types. Specify dtype option on import or set low_memory=False.\n",
      "  station_df = pd.read_csv(station_csv)\n",
      "/var/folders/_y/61ngw3jd5739nsvht6fg3wfr0000gn/T/ipykernel_3511/2459208806.py:12: DtypeWarning: Columns (31,41,42,43,47,48,52,53,70,71,72,84,88,89,108,109) have mixed types. Specify dtype option on import or set low_memory=False.\n",
      "  station_df = pd.read_csv(station_csv)\n",
      "/var/folders/_y/61ngw3jd5739nsvht6fg3wfr0000gn/T/ipykernel_3511/2459208806.py:12: DtypeWarning: Columns (31,41,42,43,46,47,48,52,53,70,71,77,84,109,110) have mixed types. Specify dtype option on import or set low_memory=False.\n",
      "  station_df = pd.read_csv(station_csv)\n",
      "/var/folders/_y/61ngw3jd5739nsvht6fg3wfr0000gn/T/ipykernel_3511/2459208806.py:12: DtypeWarning: Columns (39,40,41,42,43,47,52,53,58,59,70,76) have mixed types. Specify dtype option on import or set low_memory=False.\n",
      "  station_df = pd.read_csv(station_csv)\n",
      "/var/folders/_y/61ngw3jd5739nsvht6fg3wfr0000gn/T/ipykernel_3511/2459208806.py:12: DtypeWarning: Columns (7,31,33,35,39,40,41,42,43,47,52,53,59,88,89,108,109,125) have mixed types. Specify dtype option on import or set low_memory=False.\n",
      "  station_df = pd.read_csv(station_csv)\n",
      "/var/folders/_y/61ngw3jd5739nsvht6fg3wfr0000gn/T/ipykernel_3511/2459208806.py:12: DtypeWarning: Columns (40,41,42,47,53,59) have mixed types. Specify dtype option on import or set low_memory=False.\n",
      "  station_df = pd.read_csv(station_csv)\n",
      "/var/folders/_y/61ngw3jd5739nsvht6fg3wfr0000gn/T/ipykernel_3511/2459208806.py:7: DtypeWarning: Columns (7,15,16,17,19,20,21,22,23,24,25,26,27,28,29,30,36,37,38,39,40,44,45,46,47,49,50,51,56,57,58,59,68,69,74,75,79,80,90,91,92,93,94,95,96,97,104,105,106,107,125) have mixed types. Specify dtype option on import or set low_memory=False.\n",
      "  station_df = pd.read_csv(station_csv)\n",
      "/var/folders/_y/61ngw3jd5739nsvht6fg3wfr0000gn/T/ipykernel_3511/2459208806.py:7: DtypeWarning: Columns (13,31,49,50,67,68,69,70,76,81,82,83,85,109,110,113,123,127,128) have mixed types. Specify dtype option on import or set low_memory=False.\n",
      "  station_df = pd.read_csv(station_csv)\n",
      "/var/folders/_y/61ngw3jd5739nsvht6fg3wfr0000gn/T/ipykernel_3511/2459208806.py:7: DtypeWarning: Columns (11,12,49,67,68,69,86,87,101,107,108,109,123,127,128) have mixed types. Specify dtype option on import or set low_memory=False.\n",
      "  station_df = pd.read_csv(station_csv)\n"
     ]
    }
   ],
   "source": [
    "\n",
    "\n",
    "\n",
    "\n"
   ]
  },
  {
   "cell_type": "code",
   "execution_count": null,
   "id": "e862a18a",
   "metadata": {},
   "outputs": [],
   "source": [
    "\n",
    "\n"
   ]
  },
  {
   "cell_type": "code",
   "execution_count": null,
   "id": "904ba282",
   "metadata": {},
   "outputs": [],
   "source": []
  },
  {
   "cell_type": "code",
   "execution_count": null,
   "id": "9eeb7809",
   "metadata": {},
   "outputs": [],
   "source": []
  },
  {
   "cell_type": "code",
   "execution_count": null,
   "id": "9dada8a4",
   "metadata": {},
   "outputs": [
    {
     "name": "stdout",
     "output_type": "stream",
     "text": [
      "STATION length: 59452\n",
      "NAME length: 59452\n",
      "LATITUDE length: 59452\n",
      "LONGITUDE length: 59452\n",
      "ELEVATION length: 59452\n",
      "DATE length: 59452\n",
      "SOURCE length: 59452\n",
      "REPORT_TYPE length: 59452\n",
      "CALL_SIGN length: 59452\n",
      "QUALITY_CONTROL length: 59452\n",
      "AA1 length: 51970\n",
      "AA2 length: 2277\n",
      "AA3 length: 232\n",
      "AA4 length: 0\n",
      "AB1 length: 57\n",
      "AD1 length: 58\n",
      "AE1 length: 58\n",
      "AG1 length: 0\n",
      "AH1 length: 57\n",
      "AH2 length: 57\n",
      "AH3 length: 57\n",
      "AH4 length: 57\n",
      "AH5 length: 57\n",
      "AH6 length: 57\n",
      "AI1 length: 58\n",
      "AI2 length: 58\n",
      "AI3 length: 58\n",
      "AI4 length: 58\n",
      "AI5 length: 58\n",
      "AI6 length: 58\n",
      "AJ1 length: 1510\n",
      "AK1 length: 0\n",
      "AL1 length: 1518\n",
      "AM1 length: 0\n",
      "AN1 length: 1488\n",
      "AT1 length: 844\n",
      "AT2 length: 548\n",
      "AT3 length: 258\n",
      "AT4 length: 73\n",
      "AT5 length: 13\n",
      "AT6 length: 6\n",
      "AT7 length: 4\n",
      "AT8 length: 0\n",
      "AU1 length: 10388\n",
      "AU2 length: 3992\n",
      "AU3 length: 994\n",
      "AU4 length: 4\n",
      "AU5 length: 0\n",
      "AW1 length: 10357\n",
      "AW2 length: 4140\n",
      "AW3 length: 1449\n",
      "AW4 length: 656\n",
      "AW5 length: 4\n",
      "AW6 length: 1\n",
      "AW7 length: 0\n",
      "AX1 length: 784\n",
      "AX2 length: 369\n",
      "AX3 length: 59\n",
      "AX4 length: 5\n",
      "AX5 length: 1\n",
      "AX6 length: 0\n",
      "CALL_SIGN.1 length: 59452\n",
      "CIG length: 59452\n",
      "DEW length: 59452\n",
      "ED1 length: 0\n",
      "EQD length: 6644\n",
      "GA1 length: 57248\n",
      "GA2 length: 9595\n",
      "GA3 length: 3939\n",
      "GA4 length: 0\n",
      "GA5 length: 0\n",
      "GA6 length: 0\n",
      "GD1 length: 57304\n",
      "GD2 length: 9617\n",
      "GD3 length: 3945\n",
      "GD4 length: 0\n",
      "GE1 length: 24352\n",
      "GF1 length: 55578\n",
      "GJ1 length: 0\n",
      "GK1 length: 0\n",
      "GP1 length: 0\n",
      "GQ1 length: 0\n",
      "GR1 length: 0\n",
      "HL1 length: 0\n",
      "IA1 length: 0\n",
      "KA1 length: 9573\n",
      "KA2 length: 9524\n",
      "KA3 length: 1903\n",
      "KA4 length: 1883\n",
      "KB1 length: 58\n",
      "KB2 length: 58\n",
      "KB3 length: 58\n",
      "KC1 length: 58\n",
      "KC2 length: 58\n",
      "KD1 length: 58\n",
      "KD2 length: 58\n",
      "KE1 length: 57\n",
      "KG1 length: 0\n",
      "KG2 length: 0\n",
      "MA1 length: 57453\n",
      "MD1 length: 15421\n",
      "MF1 length: 0\n",
      "MG1 length: 1941\n",
      "MH1 length: 58\n",
      "MK1 length: 58\n",
      "MV1 length: 1074\n",
      "MW1 length: 4476\n",
      "MW2 length: 2\n",
      "MW3 length: 0\n",
      "MW4 length: 0\n",
      "MW5 length: 0\n",
      "OC1 length: 11714\n",
      "OD1 length: 6343\n",
      "OE1 length: 1941\n",
      "OE2 length: 1941\n",
      "OE3 length: 1937\n",
      "QUALITY_CONTROL.1 length: 59452\n",
      "REM length: 59452\n",
      "REPORT_TYPE.1 length: 59452\n",
      "RH1 length: 0\n",
      "RH2 length: 0\n",
      "RH3 length: 0\n",
      "SA1 length: 0\n",
      "SLP length: 59452\n",
      "SOURCE.1 length: 59452\n",
      "TMP length: 59452\n",
      "UA1 length: 0\n",
      "UG1 length: 0\n",
      "VIS length: 59452\n",
      "WA1 length: 427\n",
      "WND length: 59452\n"
     ]
    }
   ],
   "source": [
    "\n",
    "\n"
   ]
  },
  {
   "cell_type": "code",
   "execution_count": 104,
   "id": "9b877228",
   "metadata": {},
   "outputs": [
    {
     "data": {
      "text/plain": [
       "0        +0117,5\n",
       "1        +0133,5\n",
       "2        +0133,5\n",
       "3        +0139,5\n",
       "4        +0139,5\n",
       "          ...   \n",
       "59448    +0161,5\n",
       "59449    +0170,5\n",
       "59450    +0170,5\n",
       "59451    +0180,5\n",
       "59452    +0183,5\n",
       "Name: TMP, Length: 59453, dtype: object"
      ]
     },
     "execution_count": 104,
     "metadata": {},
     "output_type": "execute_result"
    }
   ],
   "source": [
    "station_df['TMP'].dropna()"
   ]
  },
  {
   "cell_type": "code",
   "execution_count": 105,
   "id": "ae9a83b9",
   "metadata": {},
   "outputs": [
    {
     "data": {
      "text/plain": [
       "0        -0006,5\n",
       "1        +0006,5\n",
       "2        +0006,5\n",
       "3        +0011,5\n",
       "4        +0017,5\n",
       "          ...   \n",
       "59448    +0144,5\n",
       "59449    +0160,5\n",
       "59450    +0150,5\n",
       "59451    +0140,5\n",
       "59452    +0144,5\n",
       "Name: DEW, Length: 59453, dtype: object"
      ]
     },
     "execution_count": 105,
     "metadata": {},
     "output_type": "execute_result"
    }
   ],
   "source": [
    "station_df['DEW']"
   ]
  },
  {
   "cell_type": "code",
   "execution_count": 1,
   "id": "3d6e2419",
   "metadata": {},
   "outputs": [
    {
     "ename": "NameError",
     "evalue": "name 'station_df' is not defined",
     "output_type": "error",
     "traceback": [
      "\u001b[31m---------------------------------------------------------------------------\u001b[39m",
      "\u001b[31mNameError\u001b[39m                                 Traceback (most recent call last)",
      "\u001b[36mCell\u001b[39m\u001b[36m \u001b[39m\u001b[32mIn[1]\u001b[39m\u001b[32m, line 1\u001b[39m\n\u001b[32m----> \u001b[39m\u001b[32m1\u001b[39m \u001b[43mstation_df\u001b[49m[\u001b[33m'\u001b[39m\u001b[33mAA1\u001b[39m\u001b[33m'\u001b[39m]\n",
      "\u001b[31mNameError\u001b[39m: name 'station_df' is not defined"
     ]
    }
   ],
   "source": [
    "station_df['AA1']"
   ]
  },
  {
   "cell_type": "code",
   "execution_count": null,
   "id": "8844c88e",
   "metadata": {},
   "outputs": [
    {
     "data": {
      "text/plain": [
       "1324"
      ]
     },
     "execution_count": 68,
     "metadata": {},
     "output_type": "execute_result"
    }
   ],
   "source": []
  }
 ],
 "metadata": {
  "kernelspec": {
   "display_name": "erdos_ds_environment",
   "language": "python",
   "name": "python3"
  },
  "language_info": {
   "codemirror_mode": {
    "name": "ipython",
    "version": 3
   },
   "file_extension": ".py",
   "mimetype": "text/x-python",
   "name": "python",
   "nbconvert_exporter": "python",
   "pygments_lexer": "ipython3",
   "version": "3.12.11"
  }
 },
 "nbformat": 4,
 "nbformat_minor": 5
}
